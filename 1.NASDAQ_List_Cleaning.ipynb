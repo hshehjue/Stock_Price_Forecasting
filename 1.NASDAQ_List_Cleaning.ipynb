{
 "cells": [
  {
   "cell_type": "code",
   "execution_count": 1,
   "id": "af2f2a5f",
   "metadata": {},
   "outputs": [],
   "source": [
    "import pandas as pd\n",
    "from collections import Counter\n",
    "import re\n",
    "\n",
    "import warnings\n",
    "warnings.filterwarnings(action=\"ignore\")"
   ]
  },
  {
   "cell_type": "markdown",
   "id": "eb7ba931",
   "metadata": {},
   "source": [
    "## Cleaning"
   ]
  },
  {
   "cell_type": "code",
   "execution_count": 2,
   "id": "11bedb9d",
   "metadata": {},
   "outputs": [],
   "source": [
    "data = pd.read_csv(\"nasdaqlisted.txt\", sep = \"|\")\n",
    "nsdq_df = data.loc[:,[\"Symbol\", \"Security Name\"]]"
   ]
  },
  {
   "cell_type": "code",
   "execution_count": 3,
   "id": "6ec1a14e",
   "metadata": {},
   "outputs": [
    {
     "data": {
      "text/html": [
       "<div>\n",
       "<style scoped>\n",
       "    .dataframe tbody tr th:only-of-type {\n",
       "        vertical-align: middle;\n",
       "    }\n",
       "\n",
       "    .dataframe tbody tr th {\n",
       "        vertical-align: top;\n",
       "    }\n",
       "\n",
       "    .dataframe thead th {\n",
       "        text-align: right;\n",
       "    }\n",
       "</style>\n",
       "<table border=\"1\" class=\"dataframe\">\n",
       "  <thead>\n",
       "    <tr style=\"text-align: right;\">\n",
       "      <th></th>\n",
       "      <th>Symbol</th>\n",
       "      <th>Security Name</th>\n",
       "    </tr>\n",
       "  </thead>\n",
       "  <tbody>\n",
       "    <tr>\n",
       "      <th>0</th>\n",
       "      <td>AACG</td>\n",
       "      <td>ATA Creativity Global - American Depositary Sh...</td>\n",
       "    </tr>\n",
       "    <tr>\n",
       "      <th>1</th>\n",
       "      <td>AACI</td>\n",
       "      <td>Armada Acquisition Corp. I - Common Stock</td>\n",
       "    </tr>\n",
       "    <tr>\n",
       "      <th>2</th>\n",
       "      <td>AACIU</td>\n",
       "      <td>Armada Acquisition Corp. I - Unit</td>\n",
       "    </tr>\n",
       "    <tr>\n",
       "      <th>3</th>\n",
       "      <td>AACIW</td>\n",
       "      <td>Armada Acquisition Corp. I - Warrant</td>\n",
       "    </tr>\n",
       "    <tr>\n",
       "      <th>4</th>\n",
       "      <td>AADI</td>\n",
       "      <td>Aadi Bioscience, Inc. - Common Stock</td>\n",
       "    </tr>\n",
       "    <tr>\n",
       "      <th>...</th>\n",
       "      <td>...</td>\n",
       "      <td>...</td>\n",
       "    </tr>\n",
       "    <tr>\n",
       "      <th>5486</th>\n",
       "      <td>ZXZZT</td>\n",
       "      <td>NASDAQ TEST STOCK</td>\n",
       "    </tr>\n",
       "    <tr>\n",
       "      <th>5487</th>\n",
       "      <td>ZY</td>\n",
       "      <td>Zymergen Inc. - Common Stock</td>\n",
       "    </tr>\n",
       "    <tr>\n",
       "      <th>5488</th>\n",
       "      <td>ZYNE</td>\n",
       "      <td>Zynerba Pharmaceuticals, Inc. - Common Stock</td>\n",
       "    </tr>\n",
       "    <tr>\n",
       "      <th>5489</th>\n",
       "      <td>ZYXI</td>\n",
       "      <td>Zynex, Inc. - Common Stock</td>\n",
       "    </tr>\n",
       "    <tr>\n",
       "      <th>5490</th>\n",
       "      <td>File Creation Time: 0121202217:01</td>\n",
       "      <td>NaN</td>\n",
       "    </tr>\n",
       "  </tbody>\n",
       "</table>\n",
       "<p>5491 rows × 2 columns</p>\n",
       "</div>"
      ],
      "text/plain": [
       "                                 Symbol  \\\n",
       "0                                  AACG   \n",
       "1                                  AACI   \n",
       "2                                 AACIU   \n",
       "3                                 AACIW   \n",
       "4                                  AADI   \n",
       "...                                 ...   \n",
       "5486                              ZXZZT   \n",
       "5487                                 ZY   \n",
       "5488                               ZYNE   \n",
       "5489                               ZYXI   \n",
       "5490  File Creation Time: 0121202217:01   \n",
       "\n",
       "                                          Security Name  \n",
       "0     ATA Creativity Global - American Depositary Sh...  \n",
       "1             Armada Acquisition Corp. I - Common Stock  \n",
       "2                     Armada Acquisition Corp. I - Unit  \n",
       "3                  Armada Acquisition Corp. I - Warrant  \n",
       "4                  Aadi Bioscience, Inc. - Common Stock  \n",
       "...                                                 ...  \n",
       "5486                                  NASDAQ TEST STOCK  \n",
       "5487                       Zymergen Inc. - Common Stock  \n",
       "5488       Zynerba Pharmaceuticals, Inc. - Common Stock  \n",
       "5489                         Zynex, Inc. - Common Stock  \n",
       "5490                                                NaN  \n",
       "\n",
       "[5491 rows x 2 columns]"
      ]
     },
     "execution_count": 3,
     "metadata": {},
     "output_type": "execute_result"
    }
   ],
   "source": [
    "nsdq_df"
   ]
  },
  {
   "cell_type": "markdown",
   "id": "13dd87d1",
   "metadata": {},
   "source": [
    "### Duplicated Rows"
   ]
  },
  {
   "cell_type": "code",
   "execution_count": 4,
   "id": "d2669685",
   "metadata": {},
   "outputs": [
    {
     "name": "stdout",
     "output_type": "stream",
     "text": [
      "symbols:  True\n",
      "security name:  False\n"
     ]
    }
   ],
   "source": [
    "# check the uniqueness of each column \n",
    "print(\"symbols: \", nsdq_df.iloc[:,0].is_unique)\n",
    "print(\"security name: \", nsdq_df.iloc[:,1].is_unique)"
   ]
  },
  {
   "cell_type": "code",
   "execution_count": 5,
   "id": "fe2f54b3",
   "metadata": {},
   "outputs": [
    {
     "data": {
      "text/plain": [
       "[('NASDAQ TEST STOCK', 4),\n",
       " ('American Electric Power Company, Inc. - Corporate Unit', 2),\n",
       " ('Harbor Custom Development, Inc. - Warrant', 2),\n",
       " ('Hycroft Mining Holding Corporation - Warrant', 2),\n",
       " ('ATA Creativity Global - American Depositary Shares, each representing two common shares',\n",
       "  1),\n",
       " ('Armada Acquisition Corp. I - Common Stock', 1)]"
      ]
     },
     "execution_count": 5,
     "metadata": {},
     "output_type": "execute_result"
    }
   ],
   "source": [
    "# check the duplicated securities \n",
    "Counter(nsdq_df.iloc[:,1]).most_common(6)"
   ]
  },
  {
   "cell_type": "code",
   "execution_count": 6,
   "id": "f238a595",
   "metadata": {},
   "outputs": [
    {
     "data": {
      "text/html": [
       "<div>\n",
       "<style scoped>\n",
       "    .dataframe tbody tr th:only-of-type {\n",
       "        vertical-align: middle;\n",
       "    }\n",
       "\n",
       "    .dataframe tbody tr th {\n",
       "        vertical-align: top;\n",
       "    }\n",
       "\n",
       "    .dataframe thead th {\n",
       "        text-align: right;\n",
       "    }\n",
       "</style>\n",
       "<table border=\"1\" class=\"dataframe\">\n",
       "  <thead>\n",
       "    <tr style=\"text-align: right;\">\n",
       "      <th></th>\n",
       "      <th>Symbol</th>\n",
       "      <th>Security Name</th>\n",
       "    </tr>\n",
       "  </thead>\n",
       "  <tbody>\n",
       "    <tr>\n",
       "      <th>125</th>\n",
       "      <td>AEPPL</td>\n",
       "      <td>American Electric Power Company, Inc. - Corpor...</td>\n",
       "    </tr>\n",
       "    <tr>\n",
       "      <th>126</th>\n",
       "      <td>AEPPZ</td>\n",
       "      <td>American Electric Power Company, Inc. - Corpor...</td>\n",
       "    </tr>\n",
       "    <tr>\n",
       "      <th>2328</th>\n",
       "      <td>HCDIW</td>\n",
       "      <td>Harbor Custom Development, Inc. - Warrant</td>\n",
       "    </tr>\n",
       "    <tr>\n",
       "      <th>2329</th>\n",
       "      <td>HCDIZ</td>\n",
       "      <td>Harbor Custom Development, Inc. - Warrant</td>\n",
       "    </tr>\n",
       "    <tr>\n",
       "      <th>2485</th>\n",
       "      <td>HYMCW</td>\n",
       "      <td>Hycroft Mining Holding Corporation - Warrant</td>\n",
       "    </tr>\n",
       "    <tr>\n",
       "      <th>2486</th>\n",
       "      <td>HYMCZ</td>\n",
       "      <td>Hycroft Mining Holding Corporation - Warrant</td>\n",
       "    </tr>\n",
       "    <tr>\n",
       "      <th>5463</th>\n",
       "      <td>ZJZZT</td>\n",
       "      <td>NASDAQ TEST STOCK</td>\n",
       "    </tr>\n",
       "    <tr>\n",
       "      <th>5480</th>\n",
       "      <td>ZVZZT</td>\n",
       "      <td>NASDAQ TEST STOCK</td>\n",
       "    </tr>\n",
       "    <tr>\n",
       "      <th>5484</th>\n",
       "      <td>ZWZZT</td>\n",
       "      <td>NASDAQ TEST STOCK</td>\n",
       "    </tr>\n",
       "    <tr>\n",
       "      <th>5486</th>\n",
       "      <td>ZXZZT</td>\n",
       "      <td>NASDAQ TEST STOCK</td>\n",
       "    </tr>\n",
       "  </tbody>\n",
       "</table>\n",
       "</div>"
      ],
      "text/plain": [
       "     Symbol                                      Security Name\n",
       "125   AEPPL  American Electric Power Company, Inc. - Corpor...\n",
       "126   AEPPZ  American Electric Power Company, Inc. - Corpor...\n",
       "2328  HCDIW          Harbor Custom Development, Inc. - Warrant\n",
       "2329  HCDIZ          Harbor Custom Development, Inc. - Warrant\n",
       "2485  HYMCW       Hycroft Mining Holding Corporation - Warrant\n",
       "2486  HYMCZ       Hycroft Mining Holding Corporation - Warrant\n",
       "5463  ZJZZT                                  NASDAQ TEST STOCK\n",
       "5480  ZVZZT                                  NASDAQ TEST STOCK\n",
       "5484  ZWZZT                                  NASDAQ TEST STOCK\n",
       "5486  ZXZZT                                  NASDAQ TEST STOCK"
      ]
     },
     "execution_count": 6,
     "metadata": {},
     "output_type": "execute_result"
    }
   ],
   "source": [
    "# check the duplicated securities \n",
    "nsdq_df.loc[nsdq_df[\"Security Name\"].duplicated(keep = False)]"
   ]
  },
  {
   "cell_type": "markdown",
   "id": "9fb23edb",
   "metadata": {},
   "source": [
    "* except for NASDAQ TEST STOCK, the duplicated stock items may have been dual-listed"
   ]
  },
  {
   "cell_type": "code",
   "execution_count": 7,
   "id": "24c285b4",
   "metadata": {},
   "outputs": [],
   "source": [
    "# remove NASDAQ TEST STOCK from the dataframe\n",
    "drop_idx = list(nsdq_df[nsdq_df[\"Security Name\"].duplicated(keep = False)][6:].index)\n",
    "nsdq_df.drop(drop_idx, axis=0, inplace=True)"
   ]
  },
  {
   "cell_type": "markdown",
   "id": "befbac5b",
   "metadata": {},
   "source": [
    "### Null Values"
   ]
  },
  {
   "cell_type": "code",
   "execution_count": 8,
   "id": "7b126619",
   "metadata": {},
   "outputs": [
    {
     "name": "stdout",
     "output_type": "stream",
     "text": [
      "Null in Security Name:  1\n",
      "Null in Security Name:  0\n"
     ]
    }
   ],
   "source": [
    "if nsdq_df[\"Security Name\"].isnull().sum() | nsdq_df[\"Symbol\"].isnull().sum() > 0:\n",
    "    print(\"Null in Security Name: \", nsdq_df[\"Security Name\"].isnull().sum())\n",
    "    print(\"Null in Security Name: \", nsdq_df[\"Symbol\"].isnull().sum())\n",
    "    nsdq_df = nsdq_df.dropna()"
   ]
  },
  {
   "cell_type": "markdown",
   "id": "a183c8c9",
   "metadata": {},
   "source": [
    "### Text Cleaning\n",
    "* Remove the security type info in Security Name column\n",
    "* lowercase"
   ]
  },
  {
   "cell_type": "code",
   "execution_count": 14,
   "id": "71fc70c1",
   "metadata": {},
   "outputs": [],
   "source": [
    "def text_cleaner(text):\n",
    "    regex1 = re.compile(\"(i*\\s-[a-z0-9\\s]*)|(\\s-[a-z0-9\\s]*)\")\n",
    "    regex2 = re.compile(\"(,*\\s(inc).*)|(,*\\s(corp).*)|(\\s(ltd).*)\")\n",
    "    text_1 = regex1.sub('', text.lower())\n",
    "    cleaned_text = regex2.sub('', text_1)\n",
    "    return cleaned_text"
   ]
  },
  {
   "cell_type": "code",
   "execution_count": null,
   "id": "e7a56e00",
   "metadata": {},
   "outputs": [],
   "source": [
    "nsdq_df[\"Security Name\"] = nsdq_df[\"Security Name\"].apply(lambda x:text_cleaner(x))"
   ]
  },
  {
   "cell_type": "code",
   "execution_count": 15,
   "id": "53916e55",
   "metadata": {},
   "outputs": [],
   "source": [
    "nsdq_df.to_csv(\"/Users/alex/Desktop/deep_stock/nsdq_df.csv\", index=True, header = True)"
   ]
  }
 ],
 "metadata": {
  "kernelspec": {
   "display_name": "Python 3 (ipykernel)",
   "language": "python",
   "name": "python3"
  },
  "language_info": {
   "codemirror_mode": {
    "name": "ipython",
    "version": 3
   },
   "file_extension": ".py",
   "mimetype": "text/x-python",
   "name": "python",
   "nbconvert_exporter": "python",
   "pygments_lexer": "ipython3",
   "version": "3.7.5"
  }
 },
 "nbformat": 4,
 "nbformat_minor": 5
}
