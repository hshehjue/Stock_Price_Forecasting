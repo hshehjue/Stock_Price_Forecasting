{
 "cells": [
  {
   "cell_type": "code",
   "execution_count": 135,
   "id": "00c840e3",
   "metadata": {},
   "outputs": [],
   "source": [
    "import pandas as pd\n",
    "import chardet\n",
    "import re"
   ]
  },
  {
   "cell_type": "code",
   "execution_count": 151,
   "id": "50d54770",
   "metadata": {},
   "outputs": [
    {
     "data": {
      "text/plain": [
       "{'encoding': 'Windows-1252', 'confidence': 0.73, 'language': ''}"
      ]
     },
     "execution_count": 151,
     "metadata": {},
     "output_type": "execute_result"
    }
   ],
   "source": [
    "file = \"./headline_finetune.csv\"\n",
    "with open(file, 'rb') as rawdata:\n",
    "    result = chardet.detect(rawdata.read(100000))\n",
    "result"
   ]
  },
  {
   "cell_type": "code",
   "execution_count": 157,
   "id": "d61ca4ab",
   "metadata": {},
   "outputs": [
    {
     "data": {
      "text/html": [
       "<div>\n",
       "<style scoped>\n",
       "    .dataframe tbody tr th:only-of-type {\n",
       "        vertical-align: middle;\n",
       "    }\n",
       "\n",
       "    .dataframe tbody tr th {\n",
       "        vertical-align: top;\n",
       "    }\n",
       "\n",
       "    .dataframe thead th {\n",
       "        text-align: right;\n",
       "    }\n",
       "</style>\n",
       "<table border=\"1\" class=\"dataframe\">\n",
       "  <thead>\n",
       "    <tr style=\"text-align: right;\">\n",
       "      <th></th>\n",
       "      <th>sentiment</th>\n",
       "      <th>headlines</th>\n",
       "    </tr>\n",
       "  </thead>\n",
       "  <tbody>\n",
       "    <tr>\n",
       "      <th>0</th>\n",
       "      <td>neutral</td>\n",
       "      <td>According to Gran , the company has no plans t...</td>\n",
       "    </tr>\n",
       "    <tr>\n",
       "      <th>1</th>\n",
       "      <td>neutral</td>\n",
       "      <td>Technopolis plans to develop in stages an area...</td>\n",
       "    </tr>\n",
       "    <tr>\n",
       "      <th>2</th>\n",
       "      <td>negative</td>\n",
       "      <td>The international electronic industry company ...</td>\n",
       "    </tr>\n",
       "    <tr>\n",
       "      <th>3</th>\n",
       "      <td>positive</td>\n",
       "      <td>With the new production plant the company woul...</td>\n",
       "    </tr>\n",
       "    <tr>\n",
       "      <th>4</th>\n",
       "      <td>positive</td>\n",
       "      <td>According to the company 's updated strategy f...</td>\n",
       "    </tr>\n",
       "    <tr>\n",
       "      <th>...</th>\n",
       "      <td>...</td>\n",
       "      <td>...</td>\n",
       "    </tr>\n",
       "    <tr>\n",
       "      <th>4841</th>\n",
       "      <td>negative</td>\n",
       "      <td>LONDON MarketWatch -- Share prices ended lower...</td>\n",
       "    </tr>\n",
       "    <tr>\n",
       "      <th>4842</th>\n",
       "      <td>neutral</td>\n",
       "      <td>Rinkuskiai 's beer sales fell by 6.5 per cent ...</td>\n",
       "    </tr>\n",
       "    <tr>\n",
       "      <th>4843</th>\n",
       "      <td>negative</td>\n",
       "      <td>Operating profit fell to EUR 35.4 mn from EUR ...</td>\n",
       "    </tr>\n",
       "    <tr>\n",
       "      <th>4844</th>\n",
       "      <td>negative</td>\n",
       "      <td>Net sales of the Paper segment decreased to EU...</td>\n",
       "    </tr>\n",
       "    <tr>\n",
       "      <th>4845</th>\n",
       "      <td>negative</td>\n",
       "      <td>Sales in Finland decreased by 10.5 % in Januar...</td>\n",
       "    </tr>\n",
       "  </tbody>\n",
       "</table>\n",
       "<p>4846 rows × 2 columns</p>\n",
       "</div>"
      ],
      "text/plain": [
       "     sentiment                                          headlines\n",
       "0      neutral  According to Gran , the company has no plans t...\n",
       "1      neutral  Technopolis plans to develop in stages an area...\n",
       "2     negative  The international electronic industry company ...\n",
       "3     positive  With the new production plant the company woul...\n",
       "4     positive  According to the company 's updated strategy f...\n",
       "...        ...                                                ...\n",
       "4841  negative  LONDON MarketWatch -- Share prices ended lower...\n",
       "4842   neutral  Rinkuskiai 's beer sales fell by 6.5 per cent ...\n",
       "4843  negative  Operating profit fell to EUR 35.4 mn from EUR ...\n",
       "4844  negative  Net sales of the Paper segment decreased to EU...\n",
       "4845  negative  Sales in Finland decreased by 10.5 % in Januar...\n",
       "\n",
       "[4846 rows x 2 columns]"
      ]
     },
     "execution_count": 157,
     "metadata": {},
     "output_type": "execute_result"
    }
   ],
   "source": [
    "ft_data= pd.read_csv(file, encoding = \"Windows-1252\", names=[\"sentiment\", \"headlines\"])\n",
    "ft_data"
   ]
  },
  {
   "cell_type": "markdown",
   "id": "61b115f0",
   "metadata": {},
   "source": [
    "## Preprocessing\n",
    "### Text Cleaning"
   ]
  },
  {
   "cell_type": "code",
   "execution_count": 158,
   "id": "cf1129a8",
   "metadata": {},
   "outputs": [],
   "source": [
    "def text_cleaner(text):\n",
    "    # (1) 't -> not\n",
    "    regex1 = re.compile('(\\'t)|([a-zA-Z]\\'t)') \n",
    "    # (2) remove URL, word+word, successive hyphens \n",
    "    regex2 = re.compile('(www\\.[a-zA-Z_0-9]+\\.[a-zA-Z_]+)|([a-zA-Z]+\\+\\s*[a-zA-Z]*)') \n",
    "    # (3) remove 'mn' \n",
    "    regex3 = re.compile('(\\s+mn\\s+)|(\\s+m\\s+)')\n",
    "    # (4) remove punctation & special char\n",
    "    regex4 = re.compile(r'[\\'\\\",&^#@)(;:]')\n",
    "    # (5) remove space before % \n",
    "    regex5 = re.compile('(\\s+\\%)|(\\s+percent)|(\\s+per cent)|(\\s+pct)')\n",
    "    # (6) remove space after -\n",
    "    regex6 = re.compile('\\-\\s+')\n",
    "    # (7) add year flag\n",
    "    regex7 = re.compile('(19[0-9]{2})|(20[0-2]{1}[0-9]{1})')\n",
    "    # (8) remove white space before \".\"\n",
    "    regex8 = re.compile('\\s+\\.')\n",
    "    # (9) change \"-\" to \"~\" between num%\n",
    "    regex9 = re.compile('\\%\\s+\\-\\s*')\n",
    "    # (10) add a white space between eur/euro and number\n",
    "    regex10 = re.compile('(\\s+eur\\s+)|(\\s+euro\\s+)')\n",
    "    # (11) add a white space between usd/dollar/dollars/$ and number\n",
    "    regex11 = re.compile('(\\s+usd\\s+)|(\\s+dollar\\s+)|(\\s+dollars\\s+)|(\\s*\\$\\s*)')\n",
    "    # (12) remove multiple spaces\n",
    "    regex12 = re.compile('[ ]+')\n",
    "    \n",
    "    cleaning1 = regex1.sub('not', text)\n",
    "    cleaning2 = regex2.sub(' ', cleaning1)\n",
    "    cleaning3 = regex3.sub(' million ', cleaning2)\n",
    "    cleaning4 = regex4.sub(' ', cleaning3)\n",
    "    cleaning5 = regex5.sub('%', cleaning4)\n",
    "    cleaning6 = regex6.sub('-', cleaning5)\n",
    "    cleaning7 = regex7.sub(' year ', cleaning6)\n",
    "    cleaning8 = regex8.sub('', cleaning7)\n",
    "    cleaning9 = regex9.sub('% ~ ', cleaning8)\n",
    "    cleaning10 = regex10.sub(' eur ', cleaning9)\n",
    "    cleaning11 = regex11.sub(' $ ', cleaning10)\n",
    "    cleaning12 = regex12.sub(' ', cleaning11)  \n",
    "    \n",
    "    return cleaning12"
   ]
  },
  {
   "cell_type": "code",
   "execution_count": 159,
   "id": "a2134d6d",
   "metadata": {},
   "outputs": [],
   "source": [
    "ft_data.headlines = ft_data.headlines.apply(lambda x:text_cleaner(x.lower()))"
   ]
  },
  {
   "cell_type": "markdown",
   "id": "1ac2d2e9",
   "metadata": {},
   "source": [
    "### Encoding Dichotomous Sentiments"
   ]
  },
  {
   "cell_type": "code",
   "execution_count": 160,
   "id": "445da165",
   "metadata": {},
   "outputs": [],
   "source": [
    "neutral_list = list(ft_data.loc[ft_data[\"sentiment\"] == \"neutral\"].index)\n",
    "ft_data = ft_data.drop(neutral_list, axis=0).reset_index(drop=True)\n",
    "ft_data.sentiment = pd.get_dummies(ft_data.sentiment, drop_first = True)"
   ]
  },
  {
   "cell_type": "code",
   "execution_count": 161,
   "id": "4fabf0a8",
   "metadata": {},
   "outputs": [],
   "source": [
    "ft_data.to_csv(\"/Users/alex/Desktop/deep_stock/ft_data1.csv\", index=True, header = True)"
   ]
  }
 ],
 "metadata": {
  "kernelspec": {
   "display_name": "Python 3 (ipykernel)",
   "language": "python",
   "name": "python3"
  },
  "language_info": {
   "codemirror_mode": {
    "name": "ipython",
    "version": 3
   },
   "file_extension": ".py",
   "mimetype": "text/x-python",
   "name": "python",
   "nbconvert_exporter": "python",
   "pygments_lexer": "ipython3",
   "version": "3.7.5"
  }
 },
 "nbformat": 4,
 "nbformat_minor": 5
}
